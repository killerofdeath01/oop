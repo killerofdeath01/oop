{
 "cells": [
  {
   "cell_type": "code",
   "execution_count": 1,
   "id": "9423e156",
   "metadata": {},
   "outputs": [
    {
     "name": "stdout",
     "output_type": "stream",
     "text": [
      "40 30\n",
      "<class 'map'>\n",
      "<class 'list'>\n",
      "40\n"
     ]
    }
   ],
   "source": [
    "a=map(int,input().split())\n",
    "print(type(a))\n",
    "a=list(a)\n",
    "print(type(a))\n",
    "def max_element(list):\n",
    "    return max(list)\n",
    "b=max_element(a)\n",
    "print(b)"
   ]
  },
  {
   "cell_type": "code",
   "execution_count": 1,
   "id": "54d5bb52",
   "metadata": {},
   "outputs": [
    {
     "name": "stdout",
     "output_type": "stream",
     "text": [
      "enter the side of the hexagon12\n",
      "62.353829072479584\n"
     ]
    }
   ],
   "source": [
    "import math\n",
    "length=int(input(\"enter the side of the hexagon\"))\n",
    "def hexagon_area(a):\n",
    "    return(3/2)*math.sqrt(3)*a*2\n",
    "print(hexagon_area(length))"
   ]
  },
  {
   "cell_type": "code",
   "execution_count": null,
   "id": "62f0d7c9",
   "metadata": {},
   "outputs": [],
   "source": [
    "import re\n",
    "def is_valid_email(email):\n",
    "    pattern=r'^[a-r]"
   ]
  },
  {
   "cell_type": "code",
   "execution_count": 6,
   "id": "07db7502",
   "metadata": {},
   "outputs": [
    {
     "name": "stdout",
     "output_type": "stream",
     "text": [
      "Original text: sam is hajam\n",
      "Encrypted text: vdp lv kdmdp\n"
     ]
    }
   ],
   "source": [
    "def encrypt(text, shift):\n",
    "    encrypted_message = \"\"\n",
    "\n",
    "    for char in text:\n",
    "        if char.isalpha():\n",
    "            is_upper = char.isupper()\n",
    "            \n",
    "            shifted_code = (ord(char) - ord('A' if is_upper else 'a') + shift) % 26\n",
    "            \n",
    "            encrypted_char = chr(shifted_code + ord('A' if is_upper else 'a'))\n",
    "            \n",
    "            encrypted_message += encrypted_char\n",
    "        else:\n",
    "       \n",
    "            encrypted_message += char\n",
    "\n",
    "    return encrypted_message\n",
    "\n",
    "text_to_encrypt = \"sam is hajam\"\n",
    "shift_value = 3\n",
    "encrypted_text = encrypt(text_to_encrypt, shift_value)\n",
    "\n",
    "print(f\"Original text: {text_to_encrypt}\")\n",
    "print(f\"Encrypted text: {encrypted_text}\")"
   ]
  },
  {
   "cell_type": "code",
   "execution_count": 7,
   "id": "fb4af0b6",
   "metadata": {},
   "outputs": [
    {
     "name": "stdout",
     "output_type": "stream",
     "text": [
      "Input text: level radar hello kayak world madam civic\n",
      "Palindromes: ['level', 'radar', 'kayak', 'madam', 'civic']\n"
     ]
    }
   ],
   "source": [
    "def is_palindrome(word):\n",
    "    # Helper function to check if a word is a palindrome\n",
    "    return word == word[::-1]\n",
    "\n",
    "def get_palindromes(input_string):\n",
    "    # Split the input string into words\n",
    "    words = input_string.split()\n",
    "    \n",
    "    # Filter palindromes using the is_palindrome helper function\n",
    "    palindromes = [word for word in words if is_palindrome(word)]\n",
    "    \n",
    "    return palindromes\n",
    "\n",
    "# Example usage:\n",
    "input_text = \"level radar hello kayak world madam civic\"\n",
    "palindrome_list = get_palindromes(input_text)\n",
    "\n",
    "print(f\"Input text: {input_text}\")\n",
    "print(f\"Palindromes: {palindrome_list}\")"
   ]
  },
  {
   "cell_type": "code",
   "execution_count": 8,
   "id": "782e55c3",
   "metadata": {},
   "outputs": [
    {
     "name": "stdout",
     "output_type": "stream",
     "text": [
      "Is instance1 an instance of MyClass1? True\n",
      "Is instance2 an instance of MyClass2? True\n",
      "Is MyClass1 a subclass of object? True\n",
      "Is MyClass2 a subclass of object? True\n"
     ]
    }
   ],
   "source": [
    "class MyClass1:\n",
    "    pass\n",
    "\n",
    "class MyClass2:\n",
    "    pass\n",
    "\n",
    "# Create instances of the classes\n",
    "instance1 = MyClass1()\n",
    "instance2 = MyClass2()\n",
    "\n",
    "# Check if instances are instances of their respective classes\n",
    "print(f\"Is instance1 an instance of MyClass1? {isinstance(instance1, MyClass1)}\")\n",
    "print(f\"Is instance2 an instance of MyClass2? {isinstance(instance2, MyClass2)}\")\n",
    "\n",
    "# Check if the classes are subclasses of the built-in object class\n",
    "print(f\"Is MyClass1 a subclass of object? {issubclass(MyClass1, object)}\")\n",
    "print(f\"Is MyClass2 a subclass of object? {issubclass(MyClass2, object)}\")"
   ]
  },
  {
   "cell_type": "code",
   "execution_count": 9,
   "id": "8824c612",
   "metadata": {},
   "outputs": [
    {
     "name": "stdout",
     "output_type": "stream",
     "text": [
      "John's age before birthday: 25\n",
      "John's age after birthday: 26\n"
     ]
    }
   ],
   "source": [
    "class BirthdayBoy:\n",
    "    def __init__(self, name, age):\n",
    "        self.name = name\n",
    "        self.age = age\n",
    "\n",
    "    def bday(self):\n",
    "        # Method to increase the age by 1\n",
    "        self.age += 1\n",
    "\n",
    "# Create an instance of the BirthdayBoy class\n",
    "john = BirthdayBoy(name=\"John\", age=25)\n",
    "\n",
    "# Print the initial details\n",
    "print(f\"{john.name}'s age before birthday: {john.age}\")\n",
    "\n",
    "# Call the bday method to increase the age\n",
    "john.bday()\n",
    "\n",
    "# Print the updated details\n",
    "print(f\"{john.name}'s age after birthday: {john.age}\")"
   ]
  },
  {
   "cell_type": "code",
   "execution_count": null,
   "id": "414042fe",
   "metadata": {},
   "outputs": [],
   "source": []
  }
 ],
 "metadata": {
  "kernelspec": {
   "display_name": "Python 3 (ipykernel)",
   "language": "python",
   "name": "python3"
  },
  "language_info": {
   "codemirror_mode": {
    "name": "ipython",
    "version": 3
   },
   "file_extension": ".py",
   "mimetype": "text/x-python",
   "name": "python",
   "nbconvert_exporter": "python",
   "pygments_lexer": "ipython3",
   "version": "3.9.12"
  }
 },
 "nbformat": 4,
 "nbformat_minor": 5
}
